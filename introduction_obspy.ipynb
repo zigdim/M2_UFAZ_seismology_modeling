{
 "cells": [
  {
   "cell_type": "markdown",
   "metadata": {},
   "source": [
    "# Introduction to Obspy\n",
    "\n",
    "### M2 - UFAZ - Seismological modeling\n",
    "@D. Zigone, J. Vergne, A. Maggi / Nov. 2021"
   ]
  },
  {
   "cell_type": "code",
   "execution_count": null,
   "metadata": {},
   "outputs": [],
   "source": [
    "import numpy as np\n",
    "import matplotlib.pyplot as plt\n",
    "\n",
    "%matplotlib inline"
   ]
  },
  {
   "cell_type": "markdown",
   "metadata": {},
   "source": [
    "## Introduction\n",
    "\n",
    "Seismological data can be provided in a variety of formats (SAC, miniseed, segY, segD, wav, etc.). The format that is curently the most wedeli used in (passive) seismology is the **miniseed** format.\n",
    "\n",
    "It is a binary format containing both the ground motion records and some metadata (station code, date, sampling step, etc.).\n",
    "\n",
    "To read and analyze these data in a Python environment, you will use the **obspy** library. It is a relatively complete suite of tools that allows you to perform a whole set of processing of seismological data (in different data formats including *Miniseed*). \n",
    "\n",
    "An exhaustive documentation and many examples of use of Obspy are available here: https://github.com/obspy/obspy/\n",
    "You can in particular watch the tutorials : https://docs.obspy.org/tutorial/ and https://krischer.github.io/seismo_live_build/tree/index.html \n",
    "\n",
    "In this notebook, we only cover some basic commands that will be useful to read, manipulate, represent and do some simple analysis of seismological data. You will need all those simple tools for the follwoing lectures and praticals. "
   ]
  },
  {
   "cell_type": "markdown",
   "metadata": {},
   "source": [
    "---------\n",
    "**Obspy Installation**\n",
    "\n",
    "If you wish to use *Obspy* on your personal computers, you must follow the installation procedure available here: https://github.com/obspy/obspy/wiki#installation\n",
    "The easiest way is to have a dedicated virtual environment via *Anaconda*.\n",
    "\n",
    "-----------"
   ]
  },
  {
   "cell_type": "markdown",
   "metadata": {},
   "source": [
    "## Importations of modules\n",
    "\n",
    "In the cell below we load the modules of *Obspy* useful later"
   ]
  },
  {
   "cell_type": "code",
   "execution_count": null,
   "metadata": {},
   "outputs": [],
   "source": [
    "from obspy import read, UTCDateTime, read_inventory"
   ]
  },
  {
   "cell_type": "markdown",
   "metadata": {},
   "source": [
    "## Reading data in miniseed format\n",
    "\n",
    "The following cell shows you how to read a miniseed data file via *Obspy* with the `read` method\n",
    "\n",
    "Here we read the file *AIS.G.00.BHZ.2020.103.mseed* corresponding to the \n",
    "- station AIS from the network G (GEOSCOPE)\n",
    "- for the data sequence starting on day 103 in 2020 with a duration of 1 day\n",
    "- for the vertical component (*BHZ*)\n",
    "\n",
    "Be careful to specify the right path to your file!"
   ]
  },
  {
   "cell_type": "code",
   "execution_count": null,
   "metadata": {},
   "outputs": [],
   "source": [
    "path_data = 'DATA/'\n",
    "\n",
    "S = read(path_data + 'AIS.G.00.BHZ.2020.103.mseed')\n",
    "\n",
    "print(S)"
   ]
  },
  {
   "cell_type": "markdown",
   "metadata": {},
   "source": [
    "#### *Stream* and *Trace* objects\n",
    "\n",
    "As the `print(S)` command indicates, `S` is an object of type *Stream*.\n",
    "\n",
    "Such a *Stream* object can be thought of as a list that can contain multiple *Trace* objects. A *Trace* corresponds to a continuous recording on a channel (*Z*, *N* or *E*) at a single sensor.\n",
    "\n",
    "Here there is only one *Trace* in the `S` object.\n",
    "To extract the corresponding *Trace*, we perform:"
   ]
  },
  {
   "cell_type": "code",
   "execution_count": null,
   "metadata": {},
   "outputs": [],
   "source": [
    "T = S[0]\n",
    "\n",
    "print(T)\n",
    "print(type(T))"
   ]
  },
  {
   "cell_type": "markdown",
   "metadata": {},
   "source": [
    "#### Metadata associated with a *Trace*\n",
    "\n",
    "The metadata corresponding to this *Trace* are available via the *.stats* method:"
   ]
  },
  {
   "cell_type": "code",
   "execution_count": null,
   "metadata": {},
   "outputs": [],
   "source": [
    "print(T.stats)\n",
    "print('------')\n",
    "fs = T.stats.sampling_rate # sampling frequency\n",
    "print('fs : ',fs)"
   ]
  },
  {
   "cell_type": "markdown",
   "metadata": {},
   "source": [
    "#### Note on dates in Obspy\n",
    "\n",
    "Dates (e.g. `starttime` for the first sample of the *Trace*) are expressed via objects of type *UTCDateTime*.\n",
    "\n",
    "We can declare such dates via the method `UTCDateTime` (*be careful to respect lowercase/uppercase*) with as arguments: year,month,day,[hour],[minute],[second].\n",
    "\n",
    "The basic unit for objects of type *UTCDateTime* is the second.\n"
   ]
  },
  {
   "cell_type": "code",
   "execution_count": null,
   "metadata": {},
   "outputs": [],
   "source": [
    "t0 = T.stats.starttime\n",
    "\n",
    "print('t0 trace : ',t0)\n",
    "print(type(t0))\n",
    "\n",
    "time = UTCDateTime(2020,4,12,0,0,0)\n",
    "time2 = time + 120\n",
    "print('time : ',time)\n",
    "print('time + 120s : ',time2)"
   ]
  },
  {
   "cell_type": "markdown",
   "metadata": {},
   "source": [
    "#### Access and modification of the time series\n",
    "\n",
    "The data vector is available via the `.data` attribute of the *Trace* object, this data vector is of type *numpy.array*."
   ]
  },
  {
   "cell_type": "code",
   "execution_count": null,
   "metadata": {},
   "outputs": [],
   "source": [
    "print(T.data[0:100])"
   ]
  },
  {
   "cell_type": "markdown",
   "metadata": {},
   "source": [
    "#### Instrument response correction\n",
    "\n",
    "As you can see in the output in the above cell, the data vector is composed of *raw data* which are intergers and not ground velocity in m/s. This raw data unit is call *counts*. \n",
    "\n",
    "In seismology it is almost always necessary to correct the raw data in *counts* from the instrument response of the sensor in order to convert the data to usuful physical units. Indeed, as any recording device, seismometers perturb the measurements. For any given seismic station, the network operator needs to provide the instrument response (i.e., the transfer function) of the station - this is usually an `.xml` file. The users can than correct the raw data from this instrument response and convert back the data in actual m/s.\n",
    "\n",
    "In `obspy` this step can be easely done with the `.remove_response` attribute of the *Trace* object. We first have to read the instrument response in `.xml` format and then use this inventory to construct the tranfer function and perform the correction. Note that we apply a pre_filt which is simply a filter  \n"
   ]
  },
  {
   "cell_type": "code",
   "execution_count": null,
   "metadata": {},
   "outputs": [],
   "source": [
    "inv = read_inventory(path_data + \"AIS.xml\")\n",
    "pre_filt = [0.001, 0.005, 9, 9.9]\n",
    "T.remove_response(inventory=inv, pre_filt=pre_filt, output=\"VEL\",\n",
    "                   water_level=60, plot=True)"
   ]
  },
  {
   "cell_type": "markdown",
   "metadata": {},
   "source": [
    "## Main methods of *Trace* (and *Stream*) objects\n",
    "\n",
    "All the interest of *Obspy* is to have methods/attributes already written allowing a visualization and a fast treatment of objects of type *Trace* or *Stream*.\n",
    "\n",
    "In the following we will illustrate some of them. \n",
    "To access all the possible methods you just have to write in a code cell the name of the variable (for example `S`) followed by a dot (`S.`) and press the *tabulation* key. Or use the command `dir(S)`."
   ]
  },
  {
   "cell_type": "code",
   "execution_count": null,
   "metadata": {},
   "outputs": [],
   "source": [
    "dir(S)"
   ]
  },
  {
   "cell_type": "markdown",
   "metadata": {},
   "source": [
    "####  Graphical representation \n",
    "\n",
    "This is the `.plot` method which has many options (see https://docs.obspy.org/packages/autogen/obspy.core.stream.Stream.plot.html)"
   ]
  },
  {
   "cell_type": "code",
   "execution_count": null,
   "metadata": {},
   "outputs": [],
   "source": [
    "T.plot()"
   ]
  },
  {
   "cell_type": "markdown",
   "metadata": {},
   "source": [
    "But for more \"freedom\", you can of course use directly *matplotlib.pyplot* from the `.data` vector\n",
    "\n",
    "the *Trace* object has a `.times` method which simply allows you to get a vector (*numpy.array*) with the appropriate time (see the different options)"
   ]
  },
  {
   "cell_type": "code",
   "execution_count": null,
   "metadata": {},
   "outputs": [],
   "source": [
    "y = T.data\n",
    "t = T.times(type='relative')\n",
    "\n",
    "print(y[0:20])\n",
    "print('----')\n",
    "print(t[0:20])\n",
    "\n",
    "plt.figure(figsize=(12,4))\n",
    "plt.plot(t,y)\n",
    "plt.xlabel('relative time')\n",
    "plt.ylabel('amplitude (m/s)')\n",
    "plt.grid()"
   ]
  },
  {
   "cell_type": "markdown",
   "metadata": {},
   "source": [
    "#### Cutting a portion of data\n",
    "\n",
    "For this there are 2 possibilities:  \n",
    "- the `trim` method which will modify the original *Trace* permamente (\"in place\")- **Warning !**\n",
    "- the `slice` method whose result must be saved in another variable (the original *Trace* is not modified)\n",
    "\n",
    "Each time you have to specify the start and end date of the segment you want to cut.\n",
    "\n",
    "For example to extract a 1 hour (3600s) record starting 6.5 hours (6.5*3600 s) after the time of the first sample:"
   ]
  },
  {
   "cell_type": "code",
   "execution_count": null,
   "metadata": {},
   "outputs": [],
   "source": [
    "t0 = T.stats.starttime\n",
    "t1 = T.stats.starttime + (6.5*3600)\n",
    "\n",
    "# Option 1 (we modify the original trace)\n",
    "T.trim(t1,t1+3600)\n",
    "print(T)\n",
    "T.plot()\n",
    "\n",
    "# Option 2 (sans toucher à la trace originale)\n",
    "#T2 = T.slice(t1,t1+3600)\n",
    "#print(T)\n",
    "#print(T2)\n",
    "#T2.plot()"
   ]
  },
  {
   "cell_type": "markdown",
   "metadata": {},
   "source": [
    "#### Removal of the average and appodization of a *Trace*.\n",
    "\n",
    "*Both of these steps must be performed before filtering a *Trace**.\n",
    "\n",
    "To remove the average of a *Trace* use the `.detrend` method (which can also remove a linear trend)\n",
    "\n",
    "To perform a matching (by default with a Hanning window), use the `.taper` method, indicating as parameter the % of the trace that will be matched at the beginning and at the end of the window.\n",
    "\n",
    "**Warning**: the original trace is definitely modified (\"in place\") by these operations!\n",
    "If you want to keep the original trace you have to copy it first with `Tkeep = T.copy()` (`Tkeep` is the preserved version of `T` even if `T` is modified afterwards)"
   ]
  },
  {
   "cell_type": "code",
   "execution_count": null,
   "metadata": {},
   "outputs": [],
   "source": [
    "T.detrend(\"demean\")\n",
    "T.taper(0.1)\n",
    "\n",
    "T.plot()"
   ]
  },
  {
   "cell_type": "markdown",
   "metadata": {},
   "source": [
    "#### Filtering a *Trace\n",
    "\n",
    "We use the `.filter` method.\n",
    "This method applies a butterworth filter (others available!) of type *lowpass*, *highpass* or *bandpass* (1st argument) and then specifying the `freqmin` and/or `freqmax` arguments\n",
    "\n",
    "The example below performs a bandpass filtering between 0.01 and 1 Hz"
   ]
  },
  {
   "cell_type": "code",
   "execution_count": null,
   "metadata": {},
   "outputs": [],
   "source": [
    "Tkeep = T.copy()\n",
    "\n",
    "T.filter(\"bandpass\",freqmin=.01,freqmax=1)\n",
    "\n",
    "T.plot()"
   ]
  },
  {
   "cell_type": "markdown",
   "metadata": {},
   "source": [
    "#### Spectrogramme of a trace\n",
    "\n",
    "To get a quick graphical representation of the spectrogram of a *Trace* you can use the `.spectrogram` method.\n",
    "\n",
    "See the many possible options here: https://docs.obspy.org/packages/autogen/obspy.imaging.spectrogram.spectrogram.html#obspy.imaging.spectrogram.spectrogram\n",
    "\n",
    "Here we apply it to the *Trace* `Tkeep` (because the *Trace* `T` has been modified by the filtering) with a log scale in frequency and amplitude and for windows of 30s (`wlen`) overlapping by 50% (`per_lap`)\n"
   ]
  },
  {
   "cell_type": "code",
   "execution_count": null,
   "metadata": {},
   "outputs": [],
   "source": [
    "Tkeep.spectrogram(log=True,dbscale=True,wlen=30,per_lap=0.5,clip=[0.5,1])"
   ]
  },
  {
   "cell_type": "markdown",
   "metadata": {},
   "source": [
    "However, it is recommended to use the `spectrogram` method of the `scipy.signal` module (cf. https://docs.scipy.org/doc/scipy/reference/generated/scipy.signal.spectrogram.html) which will be applied directly to the data (`Tkeep.data` attribute) in order to have direct access to the variables allowing to manipulate the spectrogram and to represent it as we wish."
   ]
  },
  {
   "cell_type": "code",
   "execution_count": null,
   "metadata": {},
   "outputs": [],
   "source": [
    "from scipy.signal import spectrogram\n",
    "\n",
    "fs = Tkeep.stats.sampling_rate\n",
    "nperseg = int(30*fs)\n",
    "noverlap = int(nperseg*0.5)\n",
    "f,t,Sxx = spectrogram(Tkeep.data, fs=fs, nperseg=nperseg, noverlap=noverlap)\n",
    "\n",
    "Sxx = 10*np.log10(Sxx)"
   ]
  },
  {
   "cell_type": "code",
   "execution_count": null,
   "metadata": {},
   "outputs": [],
   "source": [
    "plt.figure(figsize=(12,8))\n",
    "plt.pcolor(t,f,Sxx)\n",
    "plt.xlabel('time (s)')\n",
    "plt.ylabel('frequency (Hz)')\n",
    "plt.colorbar()\n",
    "plt.clim([-180,-50])\n",
    "plt.ylim((.05,10))\n",
    "plt.yscale('log')"
   ]
  },
  {
   "cell_type": "markdown",
   "metadata": {},
   "source": [
    "## Reading of several data files + selection and merge\n",
    "\n",
    "You can read multiple data files directly with `read` :"
   ]
  },
  {
   "cell_type": "code",
   "execution_count": null,
   "metadata": {},
   "outputs": [],
   "source": [
    "S = read(path_data + \"*SCZ*\")\n",
    "print(S)"
   ]
  },
  {
   "cell_type": "markdown",
   "metadata": {},
   "source": [
    "In this example we see that the *Stream* object contains 5 *Trace* objects.\n",
    "\n",
    "We can extract only one or several *Trace* objects thanks to the `.select` method by filtering on the network (here *G*), station (here *SCZ*) or component (here *BHZ*, *BHN* or *BHE*) codes\n",
    "\n",
    "For example to extract only the *Trace* corresponding to the east component\n"
   ]
  },
  {
   "cell_type": "code",
   "execution_count": null,
   "metadata": {},
   "outputs": [],
   "source": [
    "SE = S.select(station=\"*\",channel='BHE')\n",
    "\n",
    "print(SE)"
   ]
  },
  {
   "cell_type": "markdown",
   "metadata": {},
   "source": [
    "We see in this (very) particular case that for the *E* component there are 3 *Traces* (there were 3 files for this component).\n",
    "\n",
    "These 3 traces overlap over a large part of the recording as indicated by the representation"
   ]
  },
  {
   "cell_type": "code",
   "execution_count": null,
   "metadata": {},
   "outputs": [],
   "source": [
    "SE.plot()"
   ]
  },
  {
   "cell_type": "markdown",
   "metadata": {},
   "source": [
    "We can also visualize this better by plotting each traces with the same axis"
   ]
  },
  {
   "cell_type": "code",
   "execution_count": null,
   "metadata": {},
   "outputs": [],
   "source": [
    "SE.sort(['starttime'])\n",
    "fig = plt.figure()\n",
    "for i in range(3):\n",
    "    ax = fig.add_subplot(3, 1, i+1)\n",
    "    t = np.linspace(SE[i].stats.starttime.timestamp - dt,\n",
    "                    SE[i].stats.endtime.timestamp - dt,\n",
    "                    SE[i].stats.npts)\n",
    "    ax.plot(t, SE[i].data)\n",
    "    plt.xlim(0, 5000)\n",
    "plt.show()"
   ]
  },
  {
   "cell_type": "markdown",
   "metadata": {},
   "source": [
    "With the `.merge` method it is possible to merge these 3 traces into one (in case the common part of these 3 traces is similar), and interpolate the elements if gaps are present. You can see all options here: https://docs.obspy.org/packages/autogen/obspy.core.stream.Stream.merge.html#obspy.core.stream.Stream.merge"
   ]
  },
  {
   "cell_type": "code",
   "execution_count": null,
   "metadata": {},
   "outputs": [],
   "source": [
    "SE.merge(method=1)\n",
    "\n",
    "print(SE)\n",
    "\n",
    "SE.plot()"
   ]
  },
  {
   "cell_type": "markdown",
   "metadata": {},
   "source": [
    "--------\n",
    "NB: Objects of type *Stream* are **iterable**, i.e. you can easily perform a `for` loop on each *Trace* of a *Stream* to apply treatments to it.\n",
    "\n",
    "For example:"
   ]
  },
  {
   "cell_type": "code",
   "execution_count": null,
   "metadata": {},
   "outputs": [],
   "source": [
    "S = read(path_data + '*SCZ*')\n",
    "SE = S.select(station=\"*\",channel='BHE')\n",
    "for T in SE:\n",
    "    T.detrend(\"demean\")\n",
    "    T.taper(0.1)\n",
    "    T.filter(\"bandpass\",freqmin=0.01,freqmax=0.1)\n",
    "    T.plot()"
   ]
  },
  {
   "cell_type": "markdown",
   "metadata": {},
   "source": [
    "------\n",
    "\n",
    "\n",
    "## Writing new files in miniseed format\n",
    "\n",
    "Once you have performed various treatments (slicing, filtering, ...) you can save your new *Trace* in a file in miniseed format via the `.write` method"
   ]
  },
  {
   "cell_type": "code",
   "execution_count": null,
   "metadata": {},
   "outputs": [],
   "source": [
    "fic_out = 'toto.mseed'\n",
    "T.write(fic_out,format=\"MSEED\")"
   ]
  }
 ],
 "metadata": {
  "kernelspec": {
   "display_name": "Python 3",
   "language": "python",
   "name": "python3"
  },
  "language_info": {
   "codemirror_mode": {
    "name": "ipython",
    "version": 3
   },
   "file_extension": ".py",
   "mimetype": "text/x-python",
   "name": "python",
   "nbconvert_exporter": "python",
   "pygments_lexer": "ipython3",
   "version": "3.8.6"
  }
 },
 "nbformat": 4,
 "nbformat_minor": 4
}
